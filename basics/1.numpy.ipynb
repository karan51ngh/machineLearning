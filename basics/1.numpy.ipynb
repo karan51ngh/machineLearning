{
  "nbformat": 4,
  "nbformat_minor": 0,
  "metadata": {
    "colab": {
      "name": "MLPL5-3_numpy.ipynb",
      "provenance": [],
      "collapsed_sections": []
    },
    "kernelspec": {
      "name": "python3",
      "display_name": "Python 3"
    }
  },
  "cells": [
    {
      "cell_type": "markdown",
      "metadata": {
        "id": "XfK3SpZRQ5US"
      },
      "source": [
        "###0.importing"
      ]
    },
    {
      "cell_type": "code",
      "metadata": {
        "id": "HkQvZ08xQ-x2"
      },
      "source": [
        "import numpy as np"
      ],
      "execution_count": 47,
      "outputs": []
    },
    {
      "cell_type": "markdown",
      "metadata": {
        "id": "iJT9CzPRRMKS"
      },
      "source": [
        "###1. Creating numpy array\n"
      ]
    },
    {
      "cell_type": "markdown",
      "metadata": {
        "id": "DBjAZh9JW3qx"
      },
      "source": [
        "a) from list( vecctor operations work on array, but not on list)"
      ]
    },
    {
      "cell_type": "code",
      "metadata": {
        "id": "s3D_iLNORTLz"
      },
      "source": [
        "list1=[2,4,6,8]\n",
        "arr1=np.array(list1)"
      ],
      "execution_count": 48,
      "outputs": []
    },
    {
      "cell_type": "code",
      "metadata": {
        "colab": {
          "base_uri": "https://localhost:8080/"
        },
        "id": "F0CPeqdUWnyX",
        "outputId": "c6e79260-368e-4055-ff9f-01fb5ee08482"
      },
      "source": [
        "arr1"
      ],
      "execution_count": 49,
      "outputs": [
        {
          "output_type": "execute_result",
          "data": {
            "text/plain": [
              "array([2, 4, 6, 8])"
            ]
          },
          "metadata": {
            "tags": []
          },
          "execution_count": 49
        }
      ]
    },
    {
      "cell_type": "code",
      "metadata": {
        "colab": {
          "base_uri": "https://localhost:8080/"
        },
        "id": "ZrQ1NApWWsIh",
        "outputId": "d89b78ed-d05a-44bd-dee6-d034b8588d38"
      },
      "source": [
        "arr1+1"
      ],
      "execution_count": 50,
      "outputs": [
        {
          "output_type": "execute_result",
          "data": {
            "text/plain": [
              "array([3, 5, 7, 9])"
            ]
          },
          "metadata": {
            "tags": []
          },
          "execution_count": 50
        }
      ]
    },
    {
      "cell_type": "markdown",
      "metadata": {
        "id": "D3IGdTJTXJ3o"
      },
      "source": [
        "b) from 2D list"
      ]
    },
    {
      "cell_type": "code",
      "metadata": {
        "id": "dvLlNY88XPE4"
      },
      "source": [
        "list2=[[1,2,3,4],[2,4,6,8]]\n",
        "arr2=np.array(list2)"
      ],
      "execution_count": 51,
      "outputs": []
    },
    {
      "cell_type": "code",
      "metadata": {
        "colab": {
          "base_uri": "https://localhost:8080/"
        },
        "id": "pjsxxM4FXbFb",
        "outputId": "9c7aec94-6304-4f18-e36c-4d91e24d8c31"
      },
      "source": [
        "arr2"
      ],
      "execution_count": 52,
      "outputs": [
        {
          "output_type": "execute_result",
          "data": {
            "text/plain": [
              "array([[1, 2, 3, 4],\n",
              "       [2, 4, 6, 8]])"
            ]
          },
          "metadata": {
            "tags": []
          },
          "execution_count": 52
        }
      ]
    },
    {
      "cell_type": "markdown",
      "metadata": {
        "id": "0uqOzxVuWngC"
      },
      "source": [
        "c)converting arrray type"
      ]
    },
    {
      "cell_type": "code",
      "metadata": {
        "id": "Aq1YKpRnWAM0"
      },
      "source": [
        "arr2=np.array(list2,dtype='float')"
      ],
      "execution_count": 53,
      "outputs": []
    },
    {
      "cell_type": "code",
      "metadata": {
        "colab": {
          "base_uri": "https://localhost:8080/"
        },
        "id": "QuKqsIvsWRV6",
        "outputId": "d65d1908-be8d-4aa9-a2b9-234aa34f086c"
      },
      "source": [
        "arr2"
      ],
      "execution_count": 54,
      "outputs": [
        {
          "output_type": "execute_result",
          "data": {
            "text/plain": [
              "array([[1., 2., 3., 4.],\n",
              "       [2., 4., 6., 8.]])"
            ]
          },
          "metadata": {
            "tags": []
          },
          "execution_count": 54
        }
      ]
    },
    {
      "cell_type": "markdown",
      "metadata": {
        "id": "jvZZOlQaX5DD"
      },
      "source": [
        "d)converting array to list"
      ]
    },
    {
      "cell_type": "code",
      "metadata": {
        "id": "6VdFbXM5X_mP"
      },
      "source": [
        "arra=np.array([1,2,3,4,5,6,7],dtype='int')\n",
        "lis=arra.tolist()"
      ],
      "execution_count": 55,
      "outputs": []
    },
    {
      "cell_type": "code",
      "metadata": {
        "colab": {
          "base_uri": "https://localhost:8080/"
        },
        "id": "oBolm3BgYQpX",
        "outputId": "62d8ce82-9610-4657-997c-0f6e26c43f50"
      },
      "source": [
        "lis"
      ],
      "execution_count": 56,
      "outputs": [
        {
          "output_type": "execute_result",
          "data": {
            "text/plain": [
              "[1, 2, 3, 4, 5, 6, 7]"
            ]
          },
          "metadata": {
            "tags": []
          },
          "execution_count": 56
        }
      ]
    },
    {
      "cell_type": "markdown",
      "metadata": {
        "id": "qlsTQkPAYV-D"
      },
      "source": [
        "###2.Array Dimensions"
      ]
    },
    {
      "cell_type": "code",
      "metadata": {
        "id": "jQ9fqCYoY3xG"
      },
      "source": [
        "arr=np.array([[1,2,3,4],[5,6,7,8]])"
      ],
      "execution_count": 57,
      "outputs": []
    },
    {
      "cell_type": "code",
      "metadata": {
        "colab": {
          "base_uri": "https://localhost:8080/"
        },
        "id": "91OCTRe1Y7Y2",
        "outputId": "2d0c6bac-fb97-40a2-ea46-a9960005f338"
      },
      "source": [
        "arr.shape"
      ],
      "execution_count": 58,
      "outputs": [
        {
          "output_type": "execute_result",
          "data": {
            "text/plain": [
              "(2, 4)"
            ]
          },
          "metadata": {
            "tags": []
          },
          "execution_count": 58
        }
      ]
    },
    {
      "cell_type": "code",
      "metadata": {
        "colab": {
          "base_uri": "https://localhost:8080/"
        },
        "id": "Aq_GLZZHY-mi",
        "outputId": "9f6b56c7-19e1-4067-d91b-b56a3f0dec7b"
      },
      "source": [
        "arr.size"
      ],
      "execution_count": 59,
      "outputs": [
        {
          "output_type": "execute_result",
          "data": {
            "text/plain": [
              "8"
            ]
          },
          "metadata": {
            "tags": []
          },
          "execution_count": 59
        }
      ]
    },
    {
      "cell_type": "code",
      "metadata": {
        "colab": {
          "base_uri": "https://localhost:8080/"
        },
        "id": "7RmYLRfLZA5O",
        "outputId": "269ef73f-8ba5-445e-9b4b-00797d7060bb"
      },
      "source": [
        "arr.dtype"
      ],
      "execution_count": 60,
      "outputs": [
        {
          "output_type": "execute_result",
          "data": {
            "text/plain": [
              "dtype('int64')"
            ]
          },
          "metadata": {
            "tags": []
          },
          "execution_count": 60
        }
      ]
    },
    {
      "cell_type": "code",
      "metadata": {
        "colab": {
          "base_uri": "https://localhost:8080/"
        },
        "id": "BxNAFejcZDOd",
        "outputId": "fc73bcaa-83fc-4e75-fe2a-5d519fb44bea"
      },
      "source": [
        "arr.ndim"
      ],
      "execution_count": 61,
      "outputs": [
        {
          "output_type": "execute_result",
          "data": {
            "text/plain": [
              "2"
            ]
          },
          "metadata": {
            "tags": []
          },
          "execution_count": 61
        }
      ]
    },
    {
      "cell_type": "markdown",
      "metadata": {
        "id": "C3YmlMFxZJVL"
      },
      "source": [
        "###3.Reversing rows and columns"
      ]
    },
    {
      "cell_type": "code",
      "metadata": {
        "colab": {
          "base_uri": "https://localhost:8080/"
        },
        "id": "NgjxOGXCZ4eX",
        "outputId": "66f3401a-f8e1-4824-c2d6-be9b43e7e110"
      },
      "source": [
        "arr"
      ],
      "execution_count": 62,
      "outputs": [
        {
          "output_type": "execute_result",
          "data": {
            "text/plain": [
              "array([[1, 2, 3, 4],\n",
              "       [5, 6, 7, 8]])"
            ]
          },
          "metadata": {
            "tags": []
          },
          "execution_count": 62
        }
      ]
    },
    {
      "cell_type": "markdown",
      "metadata": {
        "id": "SoBugmMCZ_ze"
      },
      "source": [
        "a)reversing rows"
      ]
    },
    {
      "cell_type": "code",
      "metadata": {
        "colab": {
          "base_uri": "https://localhost:8080/"
        },
        "id": "yTku8vn4aC8i",
        "outputId": "a48d4ba1-bd86-4e11-e477-980845e87d57"
      },
      "source": [
        "arr[::-1,]"
      ],
      "execution_count": 63,
      "outputs": [
        {
          "output_type": "execute_result",
          "data": {
            "text/plain": [
              "array([[5, 6, 7, 8],\n",
              "       [1, 2, 3, 4]])"
            ]
          },
          "metadata": {
            "tags": []
          },
          "execution_count": 63
        }
      ]
    },
    {
      "cell_type": "markdown",
      "metadata": {
        "id": "Lt5G8EMOaOCi"
      },
      "source": [
        "b)reversing rows and columns"
      ]
    },
    {
      "cell_type": "code",
      "metadata": {
        "colab": {
          "base_uri": "https://localhost:8080/"
        },
        "id": "kSaAM6fuaSzN",
        "outputId": "7c09a8cf-1186-46ee-f3ab-f3e311bcb1ee"
      },
      "source": [
        "arr[::-1,::-1]"
      ],
      "execution_count": 64,
      "outputs": [
        {
          "output_type": "execute_result",
          "data": {
            "text/plain": [
              "array([[8, 7, 6, 5],\n",
              "       [4, 3, 2, 1]])"
            ]
          },
          "metadata": {
            "tags": []
          },
          "execution_count": 64
        }
      ]
    },
    {
      "cell_type": "markdown",
      "metadata": {
        "id": "cCGppKEg5J9i"
      },
      "source": [
        "###4.Specific Element extraction"
      ]
    },
    {
      "cell_type": "code",
      "metadata": {
        "colab": {
          "base_uri": "https://localhost:8080/"
        },
        "id": "_4U0GpGc5Uoa",
        "outputId": "5a1385f8-6734-4bfb-8230-1f83ac22c2ed"
      },
      "source": [
        "arr"
      ],
      "execution_count": 65,
      "outputs": [
        {
          "output_type": "execute_result",
          "data": {
            "text/plain": [
              "array([[1, 2, 3, 4],\n",
              "       [5, 6, 7, 8]])"
            ]
          },
          "metadata": {
            "tags": []
          },
          "execution_count": 65
        }
      ]
    },
    {
      "cell_type": "code",
      "metadata": {
        "colab": {
          "base_uri": "https://localhost:8080/"
        },
        "id": "dPW_Ir3v5fsM",
        "outputId": "daec385f-ca00-4757-c91c-78217e26948f"
      },
      "source": [
        "arr[:,1]"
      ],
      "execution_count": 66,
      "outputs": [
        {
          "output_type": "execute_result",
          "data": {
            "text/plain": [
              "array([2, 6])"
            ]
          },
          "metadata": {
            "tags": []
          },
          "execution_count": 66
        }
      ]
    },
    {
      "cell_type": "code",
      "metadata": {
        "colab": {
          "base_uri": "https://localhost:8080/"
        },
        "id": "1AjE6gtR56CT",
        "outputId": "6b4e8128-1c04-4141-a25a-9c50c5ba0bd7"
      },
      "source": [
        "arr[0,:]"
      ],
      "execution_count": 67,
      "outputs": [
        {
          "output_type": "execute_result",
          "data": {
            "text/plain": [
              "array([1, 2, 3, 4])"
            ]
          },
          "metadata": {
            "tags": []
          },
          "execution_count": 67
        }
      ]
    },
    {
      "cell_type": "code",
      "metadata": {
        "colab": {
          "base_uri": "https://localhost:8080/"
        },
        "id": "6dxVONKo6Tyz",
        "outputId": "6c6291d0-0041-43d3-d114-2de7fd055a20"
      },
      "source": [
        "arr[:,-1]"
      ],
      "execution_count": 68,
      "outputs": [
        {
          "output_type": "execute_result",
          "data": {
            "text/plain": [
              "array([4, 8])"
            ]
          },
          "metadata": {
            "tags": []
          },
          "execution_count": 68
        }
      ]
    },
    {
      "cell_type": "code",
      "metadata": {
        "colab": {
          "base_uri": "https://localhost:8080/"
        },
        "id": "ksuQlojt6Xlh",
        "outputId": "1ca4a125-da49-4254-ad65-481ebcaf5ad9"
      },
      "source": [
        "arr[:,0:3]"
      ],
      "execution_count": 69,
      "outputs": [
        {
          "output_type": "execute_result",
          "data": {
            "text/plain": [
              "array([[1, 2, 3],\n",
              "       [5, 6, 7]])"
            ]
          },
          "metadata": {
            "tags": []
          },
          "execution_count": 69
        }
      ]
    },
    {
      "cell_type": "markdown",
      "metadata": {
        "id": "xyPu7OM46d1_"
      },
      "source": [
        "###5.Basic Statistics"
      ]
    },
    {
      "cell_type": "code",
      "metadata": {
        "colab": {
          "base_uri": "https://localhost:8080/"
        },
        "id": "RVVryKSQ6hoP",
        "outputId": "49c48d6f-b2a4-4960-ccb9-af5e378d3b93"
      },
      "source": [
        "arr"
      ],
      "execution_count": 70,
      "outputs": [
        {
          "output_type": "execute_result",
          "data": {
            "text/plain": [
              "array([[1, 2, 3, 4],\n",
              "       [5, 6, 7, 8]])"
            ]
          },
          "metadata": {
            "tags": []
          },
          "execution_count": 70
        }
      ]
    },
    {
      "cell_type": "code",
      "metadata": {
        "colab": {
          "base_uri": "https://localhost:8080/"
        },
        "id": "3h8p1QSq6n7E",
        "outputId": "19fe8e1c-f771-4316-e225-bcb9cf017ed6"
      },
      "source": [
        "arr.min()"
      ],
      "execution_count": 71,
      "outputs": [
        {
          "output_type": "execute_result",
          "data": {
            "text/plain": [
              "1"
            ]
          },
          "metadata": {
            "tags": []
          },
          "execution_count": 71
        }
      ]
    },
    {
      "cell_type": "code",
      "metadata": {
        "colab": {
          "base_uri": "https://localhost:8080/"
        },
        "id": "-Bj9ofpK6s1X",
        "outputId": "f7ea02a8-7a0f-4263-91d9-b82820dc233a"
      },
      "source": [
        "arr.max()"
      ],
      "execution_count": 72,
      "outputs": [
        {
          "output_type": "execute_result",
          "data": {
            "text/plain": [
              "8"
            ]
          },
          "metadata": {
            "tags": []
          },
          "execution_count": 72
        }
      ]
    },
    {
      "cell_type": "code",
      "metadata": {
        "colab": {
          "base_uri": "https://localhost:8080/"
        },
        "id": "bjO4ahWH6ut4",
        "outputId": "e5d2355b-bd7a-484c-980b-ab529a07f935"
      },
      "source": [
        "arr.sum()"
      ],
      "execution_count": 73,
      "outputs": [
        {
          "output_type": "execute_result",
          "data": {
            "text/plain": [
              "36"
            ]
          },
          "metadata": {
            "tags": []
          },
          "execution_count": 73
        }
      ]
    },
    {
      "cell_type": "code",
      "metadata": {
        "colab": {
          "base_uri": "https://localhost:8080/"
        },
        "id": "uHCqhQNA6xAr",
        "outputId": "4dee9058-2f4d-454a-c9a9-a472ac53a14e"
      },
      "source": [
        "arr.mean()"
      ],
      "execution_count": 74,
      "outputs": [
        {
          "output_type": "execute_result",
          "data": {
            "text/plain": [
              "4.5"
            ]
          },
          "metadata": {
            "tags": []
          },
          "execution_count": 74
        }
      ]
    },
    {
      "cell_type": "code",
      "metadata": {
        "colab": {
          "base_uri": "https://localhost:8080/"
        },
        "id": "0Sq2p1c46yoS",
        "outputId": "ce0143c2-24dd-45e7-c6c5-18ca5072a0a5"
      },
      "source": [
        "np.median(arr)"
      ],
      "execution_count": 75,
      "outputs": [
        {
          "output_type": "execute_result",
          "data": {
            "text/plain": [
              "4.5"
            ]
          },
          "metadata": {
            "tags": []
          },
          "execution_count": 75
        }
      ]
    },
    {
      "cell_type": "code",
      "metadata": {
        "colab": {
          "base_uri": "https://localhost:8080/"
        },
        "id": "hpSgX-_a64JA",
        "outputId": "b8445fb6-d5fd-4677-caf1-fe21bceb72d9"
      },
      "source": [
        "np.average(arr)"
      ],
      "execution_count": 76,
      "outputs": [
        {
          "output_type": "execute_result",
          "data": {
            "text/plain": [
              "4.5"
            ]
          },
          "metadata": {
            "tags": []
          },
          "execution_count": 76
        }
      ]
    },
    {
      "cell_type": "code",
      "metadata": {
        "colab": {
          "base_uri": "https://localhost:8080/"
        },
        "id": "aGsyEu2e69lU",
        "outputId": "618076e5-5c23-4c1e-f57b-38465853a542"
      },
      "source": [
        "np.var(arr)"
      ],
      "execution_count": 77,
      "outputs": [
        {
          "output_type": "execute_result",
          "data": {
            "text/plain": [
              "5.25"
            ]
          },
          "metadata": {
            "tags": []
          },
          "execution_count": 77
        }
      ]
    },
    {
      "cell_type": "code",
      "metadata": {
        "colab": {
          "base_uri": "https://localhost:8080/"
        },
        "id": "gaP8bPkN7xs7",
        "outputId": "61cf1bf2-ccd2-4c8a-d811-e3a36af103e6"
      },
      "source": [
        "np.average(arr)"
      ],
      "execution_count": 78,
      "outputs": [
        {
          "output_type": "execute_result",
          "data": {
            "text/plain": [
              "4.5"
            ]
          },
          "metadata": {
            "tags": []
          },
          "execution_count": 78
        }
      ]
    },
    {
      "cell_type": "code",
      "metadata": {
        "colab": {
          "base_uri": "https://localhost:8080/"
        },
        "id": "Ep-XP4xj743q",
        "outputId": "2ea62408-6be7-44f0-eeb3-729afeb6ee17"
      },
      "source": [
        "np.average(arr[0])"
      ],
      "execution_count": 79,
      "outputs": [
        {
          "output_type": "execute_result",
          "data": {
            "text/plain": [
              "2.5"
            ]
          },
          "metadata": {
            "tags": []
          },
          "execution_count": 79
        }
      ]
    },
    {
      "cell_type": "markdown",
      "metadata": {
        "id": "z8aM56_l8Klb"
      },
      "source": [
        "###6.Reshaping and Flattening"
      ]
    },
    {
      "cell_type": "code",
      "metadata": {
        "colab": {
          "base_uri": "https://localhost:8080/"
        },
        "id": "Vjyy3STnCTy5",
        "outputId": "02538a41-b623-4f3a-caae-7c19a8278b35"
      },
      "source": [
        "arr"
      ],
      "execution_count": 80,
      "outputs": [
        {
          "output_type": "execute_result",
          "data": {
            "text/plain": [
              "array([[1, 2, 3, 4],\n",
              "       [5, 6, 7, 8]])"
            ]
          },
          "metadata": {
            "tags": []
          },
          "execution_count": 80
        }
      ]
    },
    {
      "cell_type": "code",
      "metadata": {
        "colab": {
          "base_uri": "https://localhost:8080/"
        },
        "id": "P5XVSpg0CYVU",
        "outputId": "ebbbbe96-732e-482a-922a-87510b163950"
      },
      "source": [
        "arr.shape"
      ],
      "execution_count": 81,
      "outputs": [
        {
          "output_type": "execute_result",
          "data": {
            "text/plain": [
              "(2, 4)"
            ]
          },
          "metadata": {
            "tags": []
          },
          "execution_count": 81
        }
      ]
    },
    {
      "cell_type": "code",
      "metadata": {
        "colab": {
          "base_uri": "https://localhost:8080/"
        },
        "id": "dEbO9xbPCZmM",
        "outputId": "960f4055-f713-48af-a344-713ef0ada4c5"
      },
      "source": [
        "arr.reshape(4,2)"
      ],
      "execution_count": 82,
      "outputs": [
        {
          "output_type": "execute_result",
          "data": {
            "text/plain": [
              "array([[1, 2],\n",
              "       [3, 4],\n",
              "       [5, 6],\n",
              "       [7, 8]])"
            ]
          },
          "metadata": {
            "tags": []
          },
          "execution_count": 82
        }
      ]
    },
    {
      "cell_type": "code",
      "metadata": {
        "colab": {
          "base_uri": "https://localhost:8080/"
        },
        "id": "2j8hJQBvCebi",
        "outputId": "f5874957-b8e4-4d88-f39f-f099bfc68224"
      },
      "source": [
        "arr.reshape(1,1,8)"
      ],
      "execution_count": 83,
      "outputs": [
        {
          "output_type": "execute_result",
          "data": {
            "text/plain": [
              "array([[[1, 2, 3, 4, 5, 6, 7, 8]]])"
            ]
          },
          "metadata": {
            "tags": []
          },
          "execution_count": 83
        }
      ]
    },
    {
      "cell_type": "code",
      "metadata": {
        "colab": {
          "base_uri": "https://localhost:8080/"
        },
        "id": "rdcvfXApCp2u",
        "outputId": "dda1d58d-5a41-42c4-c7ad-1a0ac84adf7e"
      },
      "source": [
        "arr.flatten()"
      ],
      "execution_count": 84,
      "outputs": [
        {
          "output_type": "execute_result",
          "data": {
            "text/plain": [
              "array([1, 2, 3, 4, 5, 6, 7, 8])"
            ]
          },
          "metadata": {
            "tags": []
          },
          "execution_count": 84
        }
      ]
    },
    {
      "cell_type": "markdown",
      "metadata": {
        "id": "ybBYXLpQCz74"
      },
      "source": [
        "###7.Creating Random Arrays and Sequences"
      ]
    },
    {
      "cell_type": "code",
      "metadata": {
        "colab": {
          "base_uri": "https://localhost:8080/"
        },
        "id": "LnW1QK7HSb1t",
        "outputId": "de2d9d83-1952-42ab-8868-ec369c7d423a"
      },
      "source": [
        "np.arange(10)"
      ],
      "execution_count": 86,
      "outputs": [
        {
          "output_type": "execute_result",
          "data": {
            "text/plain": [
              "array([0, 1, 2, 3, 4, 5, 6, 7, 8, 9])"
            ]
          },
          "metadata": {
            "tags": []
          },
          "execution_count": 86
        }
      ]
    },
    {
      "cell_type": "code",
      "metadata": {
        "colab": {
          "base_uri": "https://localhost:8080/"
        },
        "id": "s6JFOy1rSgjs",
        "outputId": "9664aac1-55e8-41c8-9010-a14256a6151c"
      },
      "source": [
        "np.arange(3,10)"
      ],
      "execution_count": 87,
      "outputs": [
        {
          "output_type": "execute_result",
          "data": {
            "text/plain": [
              "array([3, 4, 5, 6, 7, 8, 9])"
            ]
          },
          "metadata": {
            "tags": []
          },
          "execution_count": 87
        }
      ]
    },
    {
      "cell_type": "code",
      "metadata": {
        "colab": {
          "base_uri": "https://localhost:8080/"
        },
        "id": "zziT735CSlST",
        "outputId": "efbbd956-df7d-4856-b81e-6b144ef67b66"
      },
      "source": [
        "np.arange(2,10,3)"
      ],
      "execution_count": 88,
      "outputs": [
        {
          "output_type": "execute_result",
          "data": {
            "text/plain": [
              "array([2, 5, 8])"
            ]
          },
          "metadata": {
            "tags": []
          },
          "execution_count": 88
        }
      ]
    },
    {
      "cell_type": "code",
      "metadata": {
        "colab": {
          "base_uri": "https://localhost:8080/"
        },
        "id": "d-dzmY4ESqXh",
        "outputId": "b9a3422a-30e1-4b52-a14c-9c2ca0615b31"
      },
      "source": [
        "np.arange(10,1)"
      ],
      "execution_count": 89,
      "outputs": [
        {
          "output_type": "execute_result",
          "data": {
            "text/plain": [
              "array([], dtype=int64)"
            ]
          },
          "metadata": {
            "tags": []
          },
          "execution_count": 89
        }
      ]
    },
    {
      "cell_type": "code",
      "metadata": {
        "colab": {
          "base_uri": "https://localhost:8080/"
        },
        "id": "FpIpnpceSzjz",
        "outputId": "e96c9250-e58b-4e7b-e34b-b15d02d1e8d7"
      },
      "source": [
        "np.arange(10,1,-1)"
      ],
      "execution_count": 90,
      "outputs": [
        {
          "output_type": "execute_result",
          "data": {
            "text/plain": [
              "array([10,  9,  8,  7,  6,  5,  4,  3,  2])"
            ]
          },
          "metadata": {
            "tags": []
          },
          "execution_count": 90
        }
      ]
    },
    {
      "cell_type": "code",
      "metadata": {
        "colab": {
          "base_uri": "https://localhost:8080/"
        },
        "id": "P6fomWJdS4ht",
        "outputId": "4277fcd1-9e5a-4b50-e664-701941f9f471"
      },
      "source": [
        "np.linspace(start=1, stop = 10, num = 3)"
      ],
      "execution_count": 91,
      "outputs": [
        {
          "output_type": "execute_result",
          "data": {
            "text/plain": [
              "array([ 1. ,  5.5, 10. ])"
            ]
          },
          "metadata": {
            "tags": []
          },
          "execution_count": 91
        }
      ]
    },
    {
      "cell_type": "code",
      "metadata": {
        "colab": {
          "base_uri": "https://localhost:8080/"
        },
        "id": "udibrRrjS88L",
        "outputId": "86cacf53-94a4-4ebd-fbbe-590e5dd8de68"
      },
      "source": [
        "np.linspace(start=1, stop = 10, num = 5)"
      ],
      "execution_count": 92,
      "outputs": [
        {
          "output_type": "execute_result",
          "data": {
            "text/plain": [
              "array([ 1.  ,  3.25,  5.5 ,  7.75, 10.  ])"
            ]
          },
          "metadata": {
            "tags": []
          },
          "execution_count": 92
        }
      ]
    },
    {
      "cell_type": "code",
      "metadata": {
        "colab": {
          "base_uri": "https://localhost:8080/"
        },
        "id": "aN3_6fnwS9z-",
        "outputId": "32e8321b-125e-4966-b548-ec654d945e11"
      },
      "source": [
        "np.linspace(start=1, stop = 10, num = 4)"
      ],
      "execution_count": 93,
      "outputs": [
        {
          "output_type": "execute_result",
          "data": {
            "text/plain": [
              "array([ 1.,  4.,  7., 10.])"
            ]
          },
          "metadata": {
            "tags": []
          },
          "execution_count": 93
        }
      ]
    },
    {
      "cell_type": "code",
      "metadata": {
        "colab": {
          "base_uri": "https://localhost:8080/"
        },
        "id": "_e8IDnM5TCB9",
        "outputId": "3b25ab14-975d-4179-8bac-62a3e96d4719"
      },
      "source": [
        "np.zeros([10, 2])"
      ],
      "execution_count": 94,
      "outputs": [
        {
          "output_type": "execute_result",
          "data": {
            "text/plain": [
              "array([[0., 0.],\n",
              "       [0., 0.],\n",
              "       [0., 0.],\n",
              "       [0., 0.],\n",
              "       [0., 0.],\n",
              "       [0., 0.],\n",
              "       [0., 0.],\n",
              "       [0., 0.],\n",
              "       [0., 0.],\n",
              "       [0., 0.]])"
            ]
          },
          "metadata": {
            "tags": []
          },
          "execution_count": 94
        }
      ]
    },
    {
      "cell_type": "code",
      "metadata": {
        "colab": {
          "base_uri": "https://localhost:8080/"
        },
        "id": "bIwOko5-TEVP",
        "outputId": "cced62af-6991-4494-cc12-c89221631df4"
      },
      "source": [
        "np.zeros([2, 3, 4])"
      ],
      "execution_count": 95,
      "outputs": [
        {
          "output_type": "execute_result",
          "data": {
            "text/plain": [
              "array([[[0., 0., 0., 0.],\n",
              "        [0., 0., 0., 0.],\n",
              "        [0., 0., 0., 0.]],\n",
              "\n",
              "       [[0., 0., 0., 0.],\n",
              "        [0., 0., 0., 0.],\n",
              "        [0., 0., 0., 0.]]])"
            ]
          },
          "metadata": {
            "tags": []
          },
          "execution_count": 95
        }
      ]
    },
    {
      "cell_type": "markdown",
      "metadata": {
        "id": "Dyc9bM61TTm3"
      },
      "source": [
        "###8.Unique Items and Count"
      ]
    }
  ]
}